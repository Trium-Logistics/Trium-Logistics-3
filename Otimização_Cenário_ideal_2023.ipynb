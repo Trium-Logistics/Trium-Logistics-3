{
  "nbformat": 4,
  "nbformat_minor": 0,
  "metadata": {
    "colab": {
      "provenance": []
    },
    "kernelspec": {
      "name": "python3",
      "display_name": "Python 3"
    },
    "language_info": {
      "name": "python"
    }
  },
  "cells": [
    {
      "cell_type": "code",
      "execution_count": null,
      "metadata": {
        "colab": {
          "base_uri": "https://localhost:8080/"
        },
        "id": "J5lV5CS8ljk5",
        "outputId": "0c23a563-e673-4587-f696-8043d11245a3"
      },
      "outputs": [
        {
          "output_type": "stream",
          "name": "stdout",
          "text": [
            "Collecting pulp\n",
            "  Downloading PuLP-2.8.0-py3-none-any.whl (17.7 MB)\n",
            "\u001b[2K     \u001b[90m━━━━━━━━━━━━━━━━━━━━━━━━━━━━━━━━━━━━━━━━\u001b[0m \u001b[32m17.7/17.7 MB\u001b[0m \u001b[31m22.7 MB/s\u001b[0m eta \u001b[36m0:00:00\u001b[0m\n",
            "\u001b[?25hInstalling collected packages: pulp\n",
            "Successfully installed pulp-2.8.0\n"
          ]
        }
      ],
      "source": [
        "!pip install pulp"
      ]
    },
    {
      "cell_type": "code",
      "source": [
        "from pulp import *"
      ],
      "metadata": {
        "id": "ERVUFhV_l2Xz"
      },
      "execution_count": null,
      "outputs": []
    },
    {
      "cell_type": "code",
      "source": [
        "# Criação do problema"
      ],
      "metadata": {
        "id": "SBqSmP1r531Z"
      },
      "execution_count": null,
      "outputs": []
    },
    {
      "cell_type": "code",
      "source": [
        "problema1 = LpProblem('mizimize Custos',LpMinimize)"
      ],
      "metadata": {
        "id": "e3uQNnZDwffQ",
        "outputId": "2871a153-e75f-4723-eb3c-4fd9ec3ec1e9",
        "colab": {
          "base_uri": "https://localhost:8080/"
        }
      },
      "execution_count": null,
      "outputs": [
        {
          "output_type": "stream",
          "name": "stderr",
          "text": [
            "/usr/local/lib/python3.10/dist-packages/pulp/pulp.py:1316: UserWarning: Spaces are not permitted in the name. Converted to '_'\n",
            "  warnings.warn(\"Spaces are not permitted in the name. Converted to '_'\")\n"
          ]
        }
      ]
    },
    {
      "cell_type": "code",
      "source": [
        "# variáveis de decisão"
      ],
      "metadata": {
        "id": "N_y2hUIamIDR"
      },
      "execution_count": null,
      "outputs": []
    },
    {
      "cell_type": "code",
      "source": [
        "x15 = LpVariable('x15', lowBound = 0)\n",
        "x18 = LpVariable('x18', lowBound = 0)\n",
        "x19 = LpVariable('x19', lowBound = 0)\n",
        "x110 = LpVariable('x110', lowBound = 0)\n",
        "x111 = LpVariable('x111', lowBound = 0)\n",
        "x124 = LpVariable('x124', lowBound = 0)\n",
        "x125 = LpVariable('x125', lowBound = 0)\n",
        "x126 = LpVariable('x126', lowBound = 0)\n",
        "x127 = LpVariable('x127', lowBound = 0)\n",
        "x128 = LpVariable('x128', lowBound = 0)\n",
        "x129 = LpVariable('x129', lowBound = 0)\n",
        "x130 = LpVariable('x130', lowBound = 0)\n",
        "x131 = LpVariable('x131', lowBound = 0)\n",
        "x132 = LpVariable('x132', lowBound = 0)\n",
        "x133 = LpVariable('x133', lowBound = 0)\n",
        "x134 = LpVariable('x134', lowBound = 0)\n",
        "x135 = LpVariable('x135', lowBound = 0)\n",
        "x136 = LpVariable('x136', lowBound = 0)\n",
        "x137 = LpVariable('x137', lowBound = 0)\n",
        "x138 = LpVariable('x138', lowBound = 0)\n",
        "x139 = LpVariable('x139', lowBound = 0)\n",
        "x140 = LpVariable('x140', lowBound = 0)\n",
        "x141 = LpVariable('x141', lowBound = 0)\n",
        "x142 = LpVariable('x142', lowBound = 0)\n",
        "x143 = LpVariable('x143', lowBound = 0)\n",
        "x147 = LpVariable('x147', lowBound = 0)\n",
        "x148 = LpVariable('x148', lowBound = 0)\n",
        "x149 = LpVariable('x149', lowBound = 0)\n",
        "x150 = LpVariable('x150', lowBound = 0)\n",
        "x151 = LpVariable('x151', lowBound = 0)\n",
        "x21 = LpVariable('x21', lowBound = 0)\n",
        "x22 = LpVariable('x22', lowBound = 0)\n",
        "x23 = LpVariable('x23', lowBound = 0)\n",
        "x24 = LpVariable('x24', lowBound = 0)\n",
        "x25 = LpVariable('x25', lowBound = 0)\n",
        "x26 = LpVariable('x26', lowBound = 0)\n",
        "x27 = LpVariable('x27', lowBound = 0)\n",
        "x28 = LpVariable('x28', lowBound = 0)\n",
        "x29 = LpVariable('x29', lowBound = 0)\n",
        "x210 = LpVariable('x210', lowBound = 0)\n",
        "x211 = LpVariable('x211', lowBound = 0)\n",
        "x212 = LpVariable('x212', lowBound = 0)\n",
        "x213 = LpVariable('x213', lowBound = 0)\n",
        "x214 = LpVariable('x214', lowBound = 0)\n",
        "x215 = LpVariable('x215', lowBound = 0)\n",
        "x216 = LpVariable('x216', lowBound = 0)\n",
        "x217 = LpVariable('x217', lowBound = 0)\n",
        "x218 = LpVariable('x218', lowBound = 0)\n",
        "x219 = LpVariable('x219', lowBound = 0)\n",
        "x220 = LpVariable('x220', lowBound = 0)\n",
        "x221 = LpVariable('x221', lowBound = 0)\n",
        "x222 = LpVariable('x222', lowBound = 0)\n",
        "x223 = LpVariable('x223', lowBound = 0)\n",
        "x224 = LpVariable('x224', lowBound = 0)\n",
        "x225 = LpVariable('x225', lowBound = 0)\n",
        "x226 = LpVariable('x226', lowBound = 0)\n",
        "x227 = LpVariable('x227', lowBound = 0)\n",
        "x228 = LpVariable('x228', lowBound = 0)\n",
        "x229 = LpVariable('x229', lowBound = 0)\n",
        "x230 = LpVariable('x230', lowBound = 0)\n",
        "x231 = LpVariable('x231', lowBound = 0)\n",
        "x232 = LpVariable('x232', lowBound = 0)\n",
        "x233 = LpVariable('x233', lowBound = 0)\n",
        "x234 = LpVariable('x234', lowBound = 0)\n",
        "x235 = LpVariable('x235', lowBound = 0)\n",
        "x239 = LpVariable('x239', lowBound = 0)\n",
        "x240 = LpVariable('x240', lowBound = 0)\n",
        "x241 = LpVariable('x241', lowBound = 0)\n",
        "x242 = LpVariable('x242', lowBound = 0)\n",
        "x243 = LpVariable('x243', lowBound = 0)\n",
        "x244 = LpVariable('x244', lowBound = 0)\n",
        "x245 = LpVariable('x245', lowBound = 0)\n",
        "x246 = LpVariable('x246', lowBound = 0)\n",
        "x247 = LpVariable('x247', lowBound = 0)\n",
        "x248 = LpVariable('x248', lowBound = 0)\n",
        "x249 = LpVariable('x249', lowBound = 0)\n",
        "x250 = LpVariable('x250', lowBound = 0)\n",
        "x251 = LpVariable('x251', lowBound = 0)\n",
        "x31 = LpVariable('x31', lowBound = 0)\n",
        "x32 = LpVariable('x32', lowBound = 0)\n",
        "x33 = LpVariable('x33', lowBound = 0)\n",
        "x34 = LpVariable('x34', lowBound = 0)\n",
        "x35 = LpVariable('x35', lowBound = 0)\n",
        "x36 = LpVariable('x36', lowBound = 0)\n",
        "x37 = LpVariable('x37', lowBound = 0)\n",
        "x38 = LpVariable('x38', lowBound = 0)\n",
        "x39 = LpVariable('x39', lowBound = 0)\n",
        "x310 = LpVariable('x310', lowBound = 0)\n",
        "x311 = LpVariable('x311', lowBound = 0)\n",
        "x319 = LpVariable('x319', lowBound = 0)\n",
        "x320 = LpVariable('x320', lowBound = 0)\n",
        "x321 = LpVariable('x321', lowBound = 0)\n",
        "x322 = LpVariable('x322', lowBound = 0)\n",
        "x323 = LpVariable('x323', lowBound = 0)\n",
        "x324 = LpVariable('x324', lowBound = 0)\n",
        "x325 = LpVariable('x325', lowBound = 0)\n",
        "x326 = LpVariable('x326', lowBound = 0)\n",
        "x327 = LpVariable('x327', lowBound = 0)\n",
        "x328 = LpVariable('x328', lowBound = 0)\n",
        "x329 = LpVariable('x329', lowBound = 0)\n",
        "x330 = LpVariable('x330', lowBound = 0)\n",
        "x331 = LpVariable('x331', lowBound = 0)\n",
        "x332 = LpVariable('x332', lowBound = 0)\n",
        "x333 = LpVariable('x333', lowBound = 0)\n",
        "x334 = LpVariable('x334', lowBound = 0)\n",
        "x335 = LpVariable('x335', lowBound = 0)\n",
        "x336 = LpVariable('x336', lowBound = 0)\n",
        "x337 = LpVariable('x337', lowBound = 0)\n",
        "x338 = LpVariable('x338', lowBound = 0)\n",
        "x344 = LpVariable('x344', lowBound = 0)\n",
        "x345 = LpVariable('x345', lowBound = 0)\n",
        "x346 = LpVariable('x346', lowBound = 0)\n",
        "x347 = LpVariable('x347', lowBound = 0)\n",
        "x348 = LpVariable('x348', lowBound = 0)\n",
        "x349 = LpVariable('x349', lowBound = 0)\n",
        "x350 = LpVariable('x350', lowBound = 0)\n",
        "x351 = LpVariable('x351', lowBound = 0)"
      ],
      "metadata": {
        "id": "7gAw-Y5XxlIp"
      },
      "execution_count": null,
      "outputs": []
    },
    {
      "cell_type": "code",
      "source": [
        "# Função objetivo"
      ],
      "metadata": {
        "id": "hXZwP4EumPM_"
      },
      "execution_count": null,
      "outputs": []
    },
    {
      "cell_type": "code",
      "source": [
        "problema1 += 0.26*x15+0.26*x18+0.27*x19+0.30*x110+0.27*x111+0.29*x124+0.25*x125+0.30*x126+0.28*x127+0.31*x128+0.33*x129+0.44*x130+0.29*x131+0.35*x132+0.60*x133+0.27*x134+0.27*x135+0.48*x136+0.47*x137+0.46*x138+0.57*x139+0.61*x140+0.58*x141+0.57*x142+0.61*x143+0.69*x147+0.72*x148+0.61*x149+0.69*x150+0.64*x151+0.57*x21+0.51*x22+0.44*x23+0.47*x24+0.51*x25+0.56*x26+0.53*x27+0.56*x28+0.43*x29+0.72*x210+0.38*x211+0.80*x212+0.77*x213+0.72*x214+0.84*x215+0.85*x216+0.84*x217+0.84*x218+0.70*x219+0.74*x220+0.77*x221+0.70*x222+0.75*x223+0.72*x224+0.64*x225+0.70*x226+0.73*x227+0.73*x228+0.76*x229+0.76*x230+0.70*x231+0.69*x232+0.68*x233+0.69*x234+0.70*x235+0.88*x239+0.98*x240+0.92*x241+0.91*x242+0.99*x243+0.64*x244+0.64*x245+0.65*x246+0.28*x247+0.29*x248+0.30*x249+0.36*x250+0.42*x251+0.43*x31+0.38*x32+0.38*x33+0.41*x34+0.41*x35+0.38*x36+0.43*x37+0.37*x38+0.48*x39+0.29*x310+0.56*x311+0.29*x319+0.28*x320+0.28*x321+0.29*x322+0.25*x323+0.30*x324+0.27*x325+0.29*x326+0.21*x327+0.31*x328+0.27*x329+0.30*x330+0.28*x331+0.70*x332+0.28*x333+0.29*x334+0.30*x335+0.72*x336+0.71*x337+0.70*x338+0.48*x344+0.49*x345+0.48*x346+0.90*x347+0.96*x348+1.05*x349+1.02*x350+1.09*x351"
      ],
      "metadata": {
        "id": "R70Ew7s4gC9G"
      },
      "execution_count": null,
      "outputs": []
    },
    {
      "cell_type": "code",
      "source": [
        "# Restrições"
      ],
      "metadata": {
        "id": "qgbUpLT4mWXA"
      },
      "execution_count": null,
      "outputs": []
    },
    {
      "cell_type": "code",
      "source": [
        "problema1 += x15 + x18 + x19 + x110 + x111 + x124 + x125 + x126 + x127 + x128 + x129 + x130 + x131 + x132 + x133 + x134 + x135 + x136 + x137 + x138 + x139 + x140 + x141 + x141 + x142 + x143 + x147 + x148 + x149 + x150 + x151 <= 90000000\n",
        "problema1 += x21 + x22 + x23 + x24 + x25 + x26 + x27 + x28 + x29 + x210 + x211 + x212 + x213 + x214 + x215 + x216 + x217 + x218 + x219 + x220 + x221 + x222 + x223 + x224 + x225 + x226 + x227 + x228 + x229 + x230 + x231 + x232 + x233 + x234 + x235 + x239 + x24 + x241 + x242 + x243 + x244 + x245 + x246 + x247 + x248 + x249 + x250 + x251 <= 56000000\n",
        "problema1 += x31 + x32 + x33 + x34 + x35 + x36 + x37 + x38 + x39 + x310 + x311 + x319 + x320 + x321 + x322 + x323 + x324 + x325 + x326 + x327 + x328 + x329 + x330 + x331 + x332 + x333 + x334 + x335 + x336 + x337 + x338 + x344 + x345 + x346 + x347 + x348 + x34 + x350 + x351 <= 90000000\n",
        "problema1 += x21 + x31 == 2797800\n",
        "problema1 += x22 + x32 == 1836600\n",
        "problema1 += x23 + x33 == 1274700\n",
        "problema1 += x24 + x34 == 2439900\n",
        "problema1 += x15 + x25 + x35 == 5714100\n",
        "problema1 += x26 + x36 == 2725500\n",
        "problema1 += x27 + x37 == 2887500\n",
        "problema1 += x18 + x28 + x38 == 3846300\n",
        "problema1 += x19 + x29 + x39 == 7242300\n",
        "problema1 += x110 + x210 + x310 == 4028400\n",
        "problema1 += x111 + x211 + x311 == 6508200\n",
        "problema1 += x212 == 1214700\n",
        "problema1 += x213 == 9900\n",
        "problema1 += x214 == 37200\n",
        "problema1 += x215 == 1094100\n",
        "problema1 += x216 == 939300\n",
        "problema1 += x217 == 19200\n",
        "problema1 += x218 == 1474200\n",
        "problema1 += x219 + x319 == 2050200\n",
        "problema1 += x220 + x320 == 26400\n",
        "problema1 += x221 + x321 == 24000\n",
        "problema1 += x222 + x322 == 2151000\n",
        "problema1 += x223 + x323 == 18900\n",
        "problema1 += x124 + x224 + x324 == 1571700\n",
        "problema1 += x125 + x225 + x325 == 35100\n",
        "problema1 += x126 + x226 + x326 == 4980600\n",
        "problema1 += x127 + x227 + x327 == 1449300\n",
        "problema1 += x128 + x228 + x328 == 5429400\n",
        "problema1 += x129 + x229 + x329 == 1661400\n",
        "problema1 += x130 + x230 + x330 == 1392300\n",
        "problema1 += x131 + x231 + x331 == 5148000\n",
        "problema1 += x132 + x232 + x332 == 59700\n",
        "problema1 += x133 + x233 + x333 == 24900\n",
        "problema1 += x134 + x234 + x334 == 3387900\n",
        "problema1 += x135 + x335 == 3957000\n",
        "problema1 += x136 + x336 == 1605300\n",
        "problema1 += x137 + x337 == 2821500\n",
        "problema1 += x138 + x338 == 2232600\n",
        "problema1 += x139 + x239 == 41400\n",
        "problema1 += x140 + x240 == 3410700\n",
        "problema1 += x141 + x241 == 2381100\n",
        "problema1 += x142 + x242 == 2795100\n",
        "problema1 += x143 + x243 == 3715200\n",
        "problema1 += x244 + x344 == 2419500\n",
        "problema1 += x245 + x345 == 2129100\n",
        "problema1 += x246 + x346 == 38100\n",
        "problema1 += x147 + x247 + x347 == 4104300\n",
        "problema1 += x148 + x248 + x348 == 3446400\n",
        "problema1 += x149 + x249 + x349 == 37200\n",
        "problema1 += x150 + x250 + x350 == 3924900\n",
        "problema1 += x151 + x251 + x351 == 51300"
      ],
      "metadata": {
        "id": "hO-igKcn4thE"
      },
      "execution_count": null,
      "outputs": []
    },
    {
      "cell_type": "code",
      "source": [
        "problema1"
      ],
      "metadata": {
        "colab": {
          "base_uri": "https://localhost:8080/"
        },
        "id": "r9y0nA3oS241",
        "outputId": "7f53e997-4b2c-41a0-8329-a928ebc39e0c"
      },
      "execution_count": null,
      "outputs": [
        {
          "output_type": "execute_result",
          "data": {
            "text/plain": [
              "mizimize_Custos:\n",
              "MINIMIZE\n",
              "0.3*x110 + 0.27*x111 + 0.29*x124 + 0.25*x125 + 0.3*x126 + 0.28*x127 + 0.31*x128 + 0.33*x129 + 0.44*x130 + 0.29*x131 + 0.35*x132 + 0.6*x133 + 0.27*x134 + 0.27*x135 + 0.48*x136 + 0.47*x137 + 0.46*x138 + 0.57*x139 + 0.61*x140 + 0.58*x141 + 0.57*x142 + 0.61*x143 + 0.69*x147 + 0.72*x148 + 0.61*x149 + 0.26*x15 + 0.69*x150 + 0.64*x151 + 0.26*x18 + 0.27*x19 + 0.57*x21 + 0.72*x210 + 0.38*x211 + 0.8*x212 + 0.77*x213 + 0.72*x214 + 0.84*x215 + 0.85*x216 + 0.84*x217 + 0.84*x218 + 0.7*x219 + 0.51*x22 + 0.74*x220 + 0.77*x221 + 0.7*x222 + 0.75*x223 + 0.72*x224 + 0.64*x225 + 0.7*x226 + 0.73*x227 + 0.73*x228 + 0.76*x229 + 0.44*x23 + 0.76*x230 + 0.7*x231 + 0.69*x232 + 0.68*x233 + 0.69*x234 + 0.7*x235 + 0.88*x239 + 0.47*x24 + 0.98*x240 + 0.92*x241 + 0.91*x242 + 0.99*x243 + 0.64*x244 + 0.64*x245 + 0.65*x246 + 0.28*x247 + 0.29*x248 + 0.3*x249 + 0.51*x25 + 0.36*x250 + 0.42*x251 + 0.56*x26 + 0.53*x27 + 0.56*x28 + 0.43*x29 + 0.43*x31 + 0.29*x310 + 0.56*x311 + 0.29*x319 + 0.38*x32 + 0.28*x320 + 0.28*x321 + 0.29*x322 + 0.25*x323 + 0.3*x324 + 0.27*x325 + 0.29*x326 + 0.21*x327 + 0.31*x328 + 0.27*x329 + 0.38*x33 + 0.3*x330 + 0.28*x331 + 0.7*x332 + 0.28*x333 + 0.29*x334 + 0.3*x335 + 0.72*x336 + 0.71*x337 + 0.7*x338 + 0.41*x34 + 0.48*x344 + 0.49*x345 + 0.48*x346 + 0.9*x347 + 0.96*x348 + 1.05*x349 + 0.41*x35 + 1.02*x350 + 1.09*x351 + 0.38*x36 + 0.43*x37 + 0.37*x38 + 0.48*x39 + 0.0\n",
              "SUBJECT TO\n",
              "_C1: x110 + x111 + x124 + x125 + x126 + x127 + x128 + x129 + x130 + x131\n",
              " + x132 + x133 + x134 + x135 + x136 + x137 + x138 + x139 + x140 + 2 x141\n",
              " + x142 + x143 + x147 + x148 + x149 + x15 + x150 + x151 + x18 + x19\n",
              " <= 90000000\n",
              "\n",
              "_C2: x21 + x210 + x211 + x212 + x213 + x214 + x215 + x216 + x217 + x218 + x219\n",
              " + x22 + x220 + x221 + x222 + x223 + x224 + x225 + x226 + x227 + x228 + x229\n",
              " + x23 + x230 + x231 + x232 + x233 + x234 + x235 + x239 + 2 x24 + x241 + x242\n",
              " + x243 + x244 + x245 + x246 + x247 + x248 + x249 + x25 + x250 + x251 + x26\n",
              " + x27 + x28 + x29 <= 56000000\n",
              "\n",
              "_C3: x31 + x310 + x311 + x319 + x32 + x320 + x321 + x322 + x323 + x324 + x325\n",
              " + x326 + x327 + x328 + x329 + x33 + x330 + x331 + x332 + x333 + x334 + x335\n",
              " + x336 + x337 + x338 + 2 x34 + x344 + x345 + x346 + x347 + x348 + x35 + x350\n",
              " + x351 + x36 + x37 + x38 + x39 <= 90000000\n",
              "\n",
              "_C4: x21 + x31 = 2797800\n",
              "\n",
              "_C5: x22 + x32 = 1836600\n",
              "\n",
              "_C6: x23 + x33 = 1274700\n",
              "\n",
              "_C7: x24 + x34 = 2439900\n",
              "\n",
              "_C8: x15 + x25 + x35 = 5714100\n",
              "\n",
              "_C9: x26 + x36 = 2725500\n",
              "\n",
              "_C10: x27 + x37 = 2887500\n",
              "\n",
              "_C11: x18 + x28 + x38 = 3846300\n",
              "\n",
              "_C12: x19 + x29 + x39 = 7242300\n",
              "\n",
              "_C13: x110 + x210 + x310 = 4028400\n",
              "\n",
              "_C14: x111 + x211 + x311 = 6508200\n",
              "\n",
              "_C15: x212 = 1214700\n",
              "\n",
              "_C16: x213 = 9900\n",
              "\n",
              "_C17: x214 = 37200\n",
              "\n",
              "_C18: x215 = 1094100\n",
              "\n",
              "_C19: x216 = 939300\n",
              "\n",
              "_C20: x217 = 19200\n",
              "\n",
              "_C21: x218 = 1474200\n",
              "\n",
              "_C22: x219 + x319 = 2050200\n",
              "\n",
              "_C23: x220 + x320 = 26400\n",
              "\n",
              "_C24: x221 + x321 = 24000\n",
              "\n",
              "_C25: x222 + x322 = 2151000\n",
              "\n",
              "_C26: x223 + x323 = 18900\n",
              "\n",
              "_C27: x124 + x224 + x324 = 1571700\n",
              "\n",
              "_C28: x125 + x225 + x325 = 35100\n",
              "\n",
              "_C29: x126 + x226 + x326 = 4980600\n",
              "\n",
              "_C30: x127 + x227 + x327 = 1449300\n",
              "\n",
              "_C31: x128 + x228 + x328 = 5429400\n",
              "\n",
              "_C32: x129 + x229 + x329 = 1661400\n",
              "\n",
              "_C33: x130 + x230 + x330 = 1392300\n",
              "\n",
              "_C34: x131 + x231 + x331 = 5148000\n",
              "\n",
              "_C35: x132 + x232 + x332 = 59700\n",
              "\n",
              "_C36: x133 + x233 + x333 = 24900\n",
              "\n",
              "_C37: x134 + x234 + x334 = 3387900\n",
              "\n",
              "_C38: x135 + x335 = 3957000\n",
              "\n",
              "_C39: x136 + x336 = 1605300\n",
              "\n",
              "_C40: x137 + x337 = 2821500\n",
              "\n",
              "_C41: x138 + x338 = 2232600\n",
              "\n",
              "_C42: x139 + x239 = 41400\n",
              "\n",
              "_C43: x140 + x240 = 3410700\n",
              "\n",
              "_C44: x141 + x241 = 2381100\n",
              "\n",
              "_C45: x142 + x242 = 2795100\n",
              "\n",
              "_C46: x143 + x243 = 3715200\n",
              "\n",
              "_C47: x244 + x344 = 2419500\n",
              "\n",
              "_C48: x245 + x345 = 2129100\n",
              "\n",
              "_C49: x246 + x346 = 38100\n",
              "\n",
              "_C50: x147 + x247 + x347 = 4104300\n",
              "\n",
              "_C51: x148 + x248 + x348 = 3446400\n",
              "\n",
              "_C52: x149 + x249 + x349 = 37200\n",
              "\n",
              "_C53: x150 + x250 + x350 = 3924900\n",
              "\n",
              "_C54: x151 + x251 + x351 = 51300\n",
              "\n",
              "VARIABLES\n",
              "x110 Continuous\n",
              "x111 Continuous\n",
              "x124 Continuous\n",
              "x125 Continuous\n",
              "x126 Continuous\n",
              "x127 Continuous\n",
              "x128 Continuous\n",
              "x129 Continuous\n",
              "x130 Continuous\n",
              "x131 Continuous\n",
              "x132 Continuous\n",
              "x133 Continuous\n",
              "x134 Continuous\n",
              "x135 Continuous\n",
              "x136 Continuous\n",
              "x137 Continuous\n",
              "x138 Continuous\n",
              "x139 Continuous\n",
              "x140 Continuous\n",
              "x141 Continuous\n",
              "x142 Continuous\n",
              "x143 Continuous\n",
              "x147 Continuous\n",
              "x148 Continuous\n",
              "x149 Continuous\n",
              "x15 Continuous\n",
              "x150 Continuous\n",
              "x151 Continuous\n",
              "x18 Continuous\n",
              "x19 Continuous\n",
              "x21 Continuous\n",
              "x210 Continuous\n",
              "x211 Continuous\n",
              "x212 Continuous\n",
              "x213 Continuous\n",
              "x214 Continuous\n",
              "x215 Continuous\n",
              "x216 Continuous\n",
              "x217 Continuous\n",
              "x218 Continuous\n",
              "x219 Continuous\n",
              "x22 Continuous\n",
              "x220 Continuous\n",
              "x221 Continuous\n",
              "x222 Continuous\n",
              "x223 Continuous\n",
              "x224 Continuous\n",
              "x225 Continuous\n",
              "x226 Continuous\n",
              "x227 Continuous\n",
              "x228 Continuous\n",
              "x229 Continuous\n",
              "x23 Continuous\n",
              "x230 Continuous\n",
              "x231 Continuous\n",
              "x232 Continuous\n",
              "x233 Continuous\n",
              "x234 Continuous\n",
              "x235 Continuous\n",
              "x239 Continuous\n",
              "x24 Continuous\n",
              "x240 Continuous\n",
              "x241 Continuous\n",
              "x242 Continuous\n",
              "x243 Continuous\n",
              "x244 Continuous\n",
              "x245 Continuous\n",
              "x246 Continuous\n",
              "x247 Continuous\n",
              "x248 Continuous\n",
              "x249 Continuous\n",
              "x25 Continuous\n",
              "x250 Continuous\n",
              "x251 Continuous\n",
              "x26 Continuous\n",
              "x27 Continuous\n",
              "x28 Continuous\n",
              "x29 Continuous\n",
              "x31 Continuous\n",
              "x310 Continuous\n",
              "x311 Continuous\n",
              "x319 Continuous\n",
              "x32 Continuous\n",
              "x320 Continuous\n",
              "x321 Continuous\n",
              "x322 Continuous\n",
              "x323 Continuous\n",
              "x324 Continuous\n",
              "x325 Continuous\n",
              "x326 Continuous\n",
              "x327 Continuous\n",
              "x328 Continuous\n",
              "x329 Continuous\n",
              "x33 Continuous\n",
              "x330 Continuous\n",
              "x331 Continuous\n",
              "x332 Continuous\n",
              "x333 Continuous\n",
              "x334 Continuous\n",
              "x335 Continuous\n",
              "x336 Continuous\n",
              "x337 Continuous\n",
              "x338 Continuous\n",
              "x34 Continuous\n",
              "x344 Continuous\n",
              "x345 Continuous\n",
              "x346 Continuous\n",
              "x347 Continuous\n",
              "x348 Continuous\n",
              "x349 Continuous\n",
              "x35 Continuous\n",
              "x350 Continuous\n",
              "x351 Continuous\n",
              "x36 Continuous\n",
              "x37 Continuous\n",
              "x38 Continuous\n",
              "x39 Continuous"
            ]
          },
          "metadata": {},
          "execution_count": 11
        }
      ]
    },
    {
      "cell_type": "code",
      "source": [
        "# Resolvendo o problema"
      ],
      "metadata": {
        "id": "VgBtt-_emkTJ"
      },
      "execution_count": null,
      "outputs": []
    },
    {
      "cell_type": "code",
      "source": [
        "problema1.solve()"
      ],
      "metadata": {
        "id": "xY4bUlUvLYAM",
        "colab": {
          "base_uri": "https://localhost:8080/"
        },
        "outputId": "cec305d2-89c0-43c4-9d32-dac372dea8a3"
      },
      "execution_count": null,
      "outputs": [
        {
          "output_type": "execute_result",
          "data": {
            "text/plain": [
              "1"
            ]
          },
          "metadata": {},
          "execution_count": 13
        }
      ]
    },
    {
      "cell_type": "code",
      "source": [
        "# Imprimir variáveis de otimização"
      ],
      "metadata": {
        "id": "MCQL1J9xMzyX"
      },
      "execution_count": null,
      "outputs": []
    },
    {
      "cell_type": "code",
      "source": [
        "for v in problema1.variables():\n",
        "  print (v.name, \"=\",v.varValue)"
      ],
      "metadata": {
        "colab": {
          "base_uri": "https://localhost:8080/"
        },
        "id": "kT_xE6fEKoAY",
        "outputId": "7837870a-b90f-49de-8fc2-c1d6682032c2"
      },
      "execution_count": null,
      "outputs": [
        {
          "output_type": "stream",
          "name": "stdout",
          "text": [
            "x110 = 0.0\n",
            "x111 = 6508200.0\n",
            "x124 = 1571700.0\n",
            "x125 = 35100.0\n",
            "x126 = 0.0\n",
            "x127 = 0.0\n",
            "x128 = 5429400.0\n",
            "x129 = 0.0\n",
            "x130 = 0.0\n",
            "x131 = 0.0\n",
            "x132 = 59700.0\n",
            "x133 = 0.0\n",
            "x134 = 3387900.0\n",
            "x135 = 3957000.0\n",
            "x136 = 1605300.0\n",
            "x137 = 2821500.0\n",
            "x138 = 2232600.0\n",
            "x139 = 41400.0\n",
            "x140 = 3410700.0\n",
            "x141 = 2381100.0\n",
            "x142 = 2795100.0\n",
            "x143 = 3715200.0\n",
            "x147 = 0.0\n",
            "x148 = 0.0\n",
            "x149 = 0.0\n",
            "x15 = 5714100.0\n",
            "x150 = 0.0\n",
            "x151 = 0.0\n",
            "x18 = 3846300.0\n",
            "x19 = 7242300.0\n",
            "x21 = 0.0\n",
            "x210 = 0.0\n",
            "x211 = 0.0\n",
            "x212 = 1214700.0\n",
            "x213 = 9900.0\n",
            "x214 = 37200.0\n",
            "x215 = 1094100.0\n",
            "x216 = 939300.0\n",
            "x217 = 19200.0\n",
            "x218 = 1474200.0\n",
            "x219 = 0.0\n",
            "x22 = 0.0\n",
            "x220 = 0.0\n",
            "x221 = 0.0\n",
            "x222 = 0.0\n",
            "x223 = 0.0\n",
            "x224 = 0.0\n",
            "x225 = 0.0\n",
            "x226 = 0.0\n",
            "x227 = 0.0\n",
            "x228 = 0.0\n",
            "x229 = 0.0\n",
            "x23 = 0.0\n",
            "x230 = 0.0\n",
            "x231 = 0.0\n",
            "x232 = 0.0\n",
            "x233 = 0.0\n",
            "x234 = 0.0\n",
            "x235 = 0.0\n",
            "x239 = 0.0\n",
            "x24 = 0.0\n",
            "x240 = 0.0\n",
            "x241 = 0.0\n",
            "x242 = 0.0\n",
            "x243 = 0.0\n",
            "x244 = 0.0\n",
            "x245 = 0.0\n",
            "x246 = 0.0\n",
            "x247 = 4104300.0\n",
            "x248 = 3446400.0\n",
            "x249 = 37200.0\n",
            "x25 = 0.0\n",
            "x250 = 3924900.0\n",
            "x251 = 51300.0\n",
            "x26 = 0.0\n",
            "x27 = 0.0\n",
            "x28 = 0.0\n",
            "x29 = 0.0\n",
            "x31 = 2797800.0\n",
            "x310 = 4028400.0\n",
            "x311 = 0.0\n",
            "x319 = 2050200.0\n",
            "x32 = 1836600.0\n",
            "x320 = 26400.0\n",
            "x321 = 24000.0\n",
            "x322 = 2151000.0\n",
            "x323 = 18900.0\n",
            "x324 = 0.0\n",
            "x325 = 0.0\n",
            "x326 = 4980600.0\n",
            "x327 = 1449300.0\n",
            "x328 = 0.0\n",
            "x329 = 1661400.0\n",
            "x33 = 1274700.0\n",
            "x330 = 1392300.0\n",
            "x331 = 5148000.0\n",
            "x332 = 0.0\n",
            "x333 = 24900.0\n",
            "x334 = 0.0\n",
            "x335 = 0.0\n",
            "x336 = 0.0\n",
            "x337 = 0.0\n",
            "x338 = 0.0\n",
            "x34 = 2439900.0\n",
            "x344 = 2419500.0\n",
            "x345 = 2129100.0\n",
            "x346 = 38100.0\n",
            "x347 = 0.0\n",
            "x348 = 0.0\n",
            "x349 = 0.0\n",
            "x35 = 0.0\n",
            "x350 = 0.0\n",
            "x351 = 0.0\n",
            "x36 = 2725500.0\n",
            "x37 = 2887500.0\n",
            "x38 = 0.0\n",
            "x39 = 0.0\n"
          ]
        }
      ]
    },
    {
      "cell_type": "code",
      "source": [
        "# Mostrar resultado do custo mínimo"
      ],
      "metadata": {
        "id": "vECljTCPNNX8"
      },
      "execution_count": null,
      "outputs": []
    },
    {
      "cell_type": "code",
      "source": [
        "print('Resultado do custo mínimo =',value(problema1.objective))"
      ],
      "metadata": {
        "colab": {
          "base_uri": "https://localhost:8080/"
        },
        "id": "gOPtQ6f3LUME",
        "outputId": "4f938fa7-de1b-427d-ddb2-115689e1b0da"
      },
      "execution_count": null,
      "outputs": [
        {
          "output_type": "stream",
          "name": "stdout",
          "text": [
            "Resultado do custo mínimo = 42745485.0\n"
          ]
        }
      ]
    }
  ]
}